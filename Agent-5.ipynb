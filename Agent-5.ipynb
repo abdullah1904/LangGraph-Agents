{
 "cells": [
  {
   "cell_type": "markdown",
   "id": "68178a2c",
   "metadata": {},
   "source": [
    "### Looping Graph"
   ]
  },
  {
   "cell_type": "code",
   "execution_count": 22,
   "id": "5aaae294",
   "metadata": {},
   "outputs": [],
   "source": [
    "from typing import TypedDict, List\n",
    "import random\n",
    "from langgraph.graph import StateGraph, START, END"
   ]
  },
  {
   "cell_type": "code",
   "execution_count": 23,
   "id": "8caa6cee",
   "metadata": {},
   "outputs": [],
   "source": [
    "class AgentState(TypedDict):\n",
    "    name: str\n",
    "    random_numbers: List[int]\n",
    "    counter: int"
   ]
  },
  {
   "cell_type": "code",
   "execution_count": 25,
   "id": "6407e727",
   "metadata": {},
   "outputs": [],
   "source": [
    "def greeting_node(state: AgentState)->AgentState:\n",
    "    \"\"\"Greeting node that says hi to the person.\"\"\"\n",
    "    state['name'] = f\"Hi {state['name']}!\"\n",
    "    state['counter'] = 0\n",
    "    return state\n",
    "\n",
    "def generate_random_numbers_node(state: AgentState) -> AgentState:\n",
    "    \"\"\"Generated a 5 random numbers from 1 to 10.\"\"\"\n",
    "    state['random_numbers'].append(random.randint(1, 10))\n",
    "    state['counter'] += 1\n",
    "    return state\n",
    "\n",
    "def should_continue(state:AgentState):\n",
    "    \"\"\"Function to decide what to do next.\"\"\"\n",
    "    if state['counter'] < 5:\n",
    "        return 'loop'\n",
    "    else:\n",
    "        return \"exit\""
   ]
  },
  {
   "cell_type": "code",
   "execution_count": 26,
   "id": "80d7ab11",
   "metadata": {},
   "outputs": [
    {
     "data": {
      "text/plain": [
       "<langgraph.graph.state.StateGraph at 0x290a94d4a50>"
      ]
     },
     "execution_count": 26,
     "metadata": {},
     "output_type": "execute_result"
    }
   ],
   "source": [
    "graph = StateGraph(AgentState)\n",
    "\n",
    "graph.add_node(\"greeting_node\", greeting_node)\n",
    "graph.add_node(\"generate_random_numbers_node\", generate_random_numbers_node)\n",
    "\n",
    "graph.add_edge(START, \"greeting_node\")\n",
    "graph.add_edge(\"greeting_node\", \"generate_random_numbers_node\")\n",
    "\n",
    "graph.add_conditional_edges(\n",
    "    'generate_random_numbers_node',\n",
    "    should_continue,\n",
    "    {\n",
    "        'loop': 'generate_random_numbers_node',\n",
    "        'exit': END\n",
    "    }\n",
    ")"
   ]
  },
  {
   "cell_type": "code",
   "execution_count": 27,
   "id": "dd6c14ef",
   "metadata": {},
   "outputs": [],
   "source": [
    "app = graph.compile()"
   ]
  },
  {
   "cell_type": "code",
   "execution_count": 28,
   "id": "d678356d",
   "metadata": {},
   "outputs": [
    {
     "data": {
      "image/png": "[encoded data removed]",
      "text/plain": [
       "<IPython.core.display.Image object>"
      ]
     },
     "metadata": {},
     "output_type": "display_data"
    }
   ],
   "source": [
    "from IPython.display import display, Image\n",
    "display(Image(app.get_graph().draw_mermaid_png()))"
   ]
  },
  {
   "cell_type": "code",
   "execution_count": 33,
   "id": "94395eb2",
   "metadata": {},
   "outputs": [
    {
     "name": "stdout",
     "output_type": "stream",
     "text": [
      "Final Result: {'name': 'Hi Muhammad Abdullah!', 'random_numbers': [2, 3, 6, 3, 4], 'counter': 5}\n"
     ]
    }
   ],
   "source": [
    "result = app.invoke({\n",
    "    'name': 'Muhammad Abdullah',\n",
    "    'random_numbers': [],\n",
    "    'counter': -2\n",
    "})\n",
    "print(\"Final Result:\", result)"
   ]
  }
 ],
 "metadata": {
  "kernelspec": {
   "display_name": ".venv",
   "language": "python",
   "name": "python3"
  },
  "language_info": {
   "codemirror_mode": {
    "name": "ipython",
    "version": 3
   },
   "file_extension": ".py",
   "mimetype": "text/x-python",
   "name": "python",
   "nbconvert_exporter": "python",
   "pygments_lexer": "ipython3",
   "version": "3.13.5"
  }
 },
 "nbformat": 4,
 "nbformat_minor": 5
}
